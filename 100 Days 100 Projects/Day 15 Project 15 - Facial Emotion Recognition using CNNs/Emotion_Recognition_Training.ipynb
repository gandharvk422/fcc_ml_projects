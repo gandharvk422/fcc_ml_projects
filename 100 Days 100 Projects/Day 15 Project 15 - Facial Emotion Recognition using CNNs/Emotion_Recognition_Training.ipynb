{
 "cells": [
  {
   "cell_type": "code",
   "execution_count": 1,
   "metadata": {
    "colab": {},
    "colab_type": "code",
    "id": "CfCq5Pjlv3q0"
   },
   "outputs": [],
   "source": [
    "import numpy as np\n",
    "import pandas as pd\n",
    "from matplotlib import pyplot as plt\n",
    "import tensorflow as tf\n",
    "from tensorflow.keras.models import Sequential\n",
    "from tensorflow.keras.layers import Dense,Conv2D,Flatten,MaxPooling2D,Dropout,BatchNormalization\n",
    "from tensorflow.keras.utils import to_categorical\n",
    "from tensorflow.keras.optimizers import Adam\n",
    "import os"
   ]
  },
  {
   "cell_type": "code",
   "execution_count": 3,
   "metadata": {
    "colab": {
     "base_uri": "https://localhost:8080/",
     "height": 33
    },
    "colab_type": "code",
    "id": "AyFetkXgv3rA",
    "outputId": "08bc19f8-1a04-43cf-c822-c48d2071c956"
   },
   "outputs": [
    {
     "name": "stdout",
     "output_type": "stream",
     "text": [
      "(35887, 3)\n"
     ]
    }
   ],
   "source": [
    "x = pd.read_csv('fer2013.csv')\n",
    "print (x.values.shape)"
   ]
  },
  {
   "cell_type": "code",
   "execution_count": 4,
   "metadata": {
    "colab": {
     "base_uri": "https://localhost:8080/",
     "height": 196
    },
    "colab_type": "code",
    "id": "3sG-j6eWv3rD",
    "outputId": "e901b5ad-22d4-4adf-e54d-60d6cd01bd84"
   },
   "outputs": [
    {
     "data": {
      "text/html": [
       "<div>\n",
       "<style scoped>\n",
       "    .dataframe tbody tr th:only-of-type {\n",
       "        vertical-align: middle;\n",
       "    }\n",
       "\n",
       "    .dataframe tbody tr th {\n",
       "        vertical-align: top;\n",
       "    }\n",
       "\n",
       "    .dataframe thead th {\n",
       "        text-align: right;\n",
       "    }\n",
       "</style>\n",
       "<table border=\"1\" class=\"dataframe\">\n",
       "  <thead>\n",
       "    <tr style=\"text-align: right;\">\n",
       "      <th></th>\n",
       "      <th>emotion</th>\n",
       "      <th>pixels</th>\n",
       "      <th>Usage</th>\n",
       "    </tr>\n",
       "  </thead>\n",
       "  <tbody>\n",
       "    <tr>\n",
       "      <th>0</th>\n",
       "      <td>0</td>\n",
       "      <td>70 80 82 72 58 58 60 63 54 58 60 48 89 115 121...</td>\n",
       "      <td>Training</td>\n",
       "    </tr>\n",
       "    <tr>\n",
       "      <th>1</th>\n",
       "      <td>0</td>\n",
       "      <td>151 150 147 155 148 133 111 140 170 174 182 15...</td>\n",
       "      <td>Training</td>\n",
       "    </tr>\n",
       "    <tr>\n",
       "      <th>2</th>\n",
       "      <td>2</td>\n",
       "      <td>231 212 156 164 174 138 161 173 182 200 106 38...</td>\n",
       "      <td>Training</td>\n",
       "    </tr>\n",
       "    <tr>\n",
       "      <th>3</th>\n",
       "      <td>4</td>\n",
       "      <td>24 32 36 30 32 23 19 20 30 41 21 22 32 34 21 1...</td>\n",
       "      <td>Training</td>\n",
       "    </tr>\n",
       "    <tr>\n",
       "      <th>4</th>\n",
       "      <td>6</td>\n",
       "      <td>4 0 0 0 0 0 0 0 0 0 0 0 3 15 23 28 48 50 58 84...</td>\n",
       "      <td>Training</td>\n",
       "    </tr>\n",
       "  </tbody>\n",
       "</table>\n",
       "</div>"
      ],
      "text/plain": [
       "   emotion                                             pixels     Usage\n",
       "0        0  70 80 82 72 58 58 60 63 54 58 60 48 89 115 121...  Training\n",
       "1        0  151 150 147 155 148 133 111 140 170 174 182 15...  Training\n",
       "2        2  231 212 156 164 174 138 161 173 182 200 106 38...  Training\n",
       "3        4  24 32 36 30 32 23 19 20 30 41 21 22 32 34 21 1...  Training\n",
       "4        6  4 0 0 0 0 0 0 0 0 0 0 0 3 15 23 28 48 50 58 84...  Training"
      ]
     },
     "execution_count": 4,
     "metadata": {},
     "output_type": "execute_result"
    }
   ],
   "source": [
    "x.head()"
   ]
  },
  {
   "cell_type": "code",
   "execution_count": 5,
   "metadata": {
    "colab": {
     "base_uri": "https://localhost:8080/",
     "height": 84
    },
    "colab_type": "code",
    "id": "F7AY10Ssv3rH",
    "outputId": "40425400-79bb-48b1-ad83-735b9410d4ac"
   },
   "outputs": [
    {
     "name": "stdout",
     "output_type": "stream",
     "text": [
      "<class 'numpy.ndarray'>\n",
      "35887\n",
      "8287\n",
      "3\n"
     ]
    }
   ],
   "source": [
    "y = x.values[:,0]\n",
    "pixels = x.values[:, 1]\n",
    "print (type(pixels))\n",
    "print (len(pixels))\n",
    "print (len(pixels[0]))\n",
    "print (pixels[10][10])"
   ]
  },
  {
   "cell_type": "code",
   "execution_count": 6,
   "metadata": {
    "colab": {
     "base_uri": "https://localhost:8080/",
     "height": 33
    },
    "colab_type": "code",
    "id": "MvE6cpoHv3rL",
    "outputId": "54712b36-275f-487e-bd1d-8ce1f1f802ed"
   },
   "outputs": [
    {
     "name": "stdout",
     "output_type": "stream",
     "text": [
      "2304\n"
     ]
    }
   ],
   "source": [
    "p = pixels[10].split(' ')\n",
    "print(len(p))"
   ]
  },
  {
   "cell_type": "code",
   "execution_count": 7,
   "metadata": {
    "colab": {},
    "colab_type": "code",
    "id": "0zkQ8nrSv3rO"
   },
   "outputs": [],
   "source": [
    "X = np.zeros((pixels.shape[0], 48*48))\n",
    "\n",
    "for ix in range(X.shape[0]):\n",
    "    p = pixels[ix].split(' ')\n",
    "    for iy in range(X.shape[1]):\n",
    "        X[ix, iy] = int(p[iy])"
   ]
  },
  {
   "cell_type": "code",
   "execution_count": 8,
   "metadata": {
    "colab": {},
    "colab_type": "code",
    "id": "hOZvMFxzv3rS"
   },
   "outputs": [],
   "source": [
    "temp = X"
   ]
  },
  {
   "cell_type": "code",
   "execution_count": 9,
   "metadata": {
    "colab": {
     "base_uri": "https://localhost:8080/",
     "height": 1000
    },
    "colab_type": "code",
    "id": "UXHTnCGDv3rW",
    "outputId": "963ee25d-da4c-4e4c-99ed-7cd7e125c7a4"
   },
   "outputs": [
    {
     "data": {
      "image/png": "[encoded data removed]",
      "text/plain": [
       "<Figure size 640x480 with 1 Axes>"
      ]
     },
     "metadata": {},
     "output_type": "display_data"
    },
    {
     "data": {
      "image/png": "[encoded data removed]",
      "text/plain": [
       "<Figure size 640x480 with 1 Axes>"
      ]
     },
     "metadata": {},
     "output_type": "display_data"
    },
    {
     "data": {
      "image/png": "[encoded data removed]",
      "text/plain": [
       "<Figure size 640x480 with 1 Axes>"
      ]
     },
     "metadata": {},
     "output_type": "display_data"
    },
    {
     "data": {
      "image/png": "[encoded data removed]",
      "text/plain": [
       "<Figure size 640x480 with 1 Axes>"
      ]
     },
     "metadata": {},
     "output_type": "display_data"
    }
   ],
   "source": [
    "for ix in range(4):\n",
    "    plt.figure(ix)\n",
    "    plt.imshow(temp[ix].reshape((48, 48)), interpolation='none', cmap='gray')\n",
    "plt.show()"
   ]
  },
  {
   "cell_type": "code",
   "execution_count": 10,
   "metadata": {
    "colab": {
     "base_uri": "https://localhost:8080/",
     "height": 134
    },
    "colab_type": "code",
    "id": "1Eb5M65yv3rZ",
    "outputId": "f761d77b-54b4-4b1a-ae02-db12fa8a9dd7"
   },
   "outputs": [
    {
     "data": {
      "text/plain": [
       "array([[ 70.,  80.,  82., ..., 106., 109.,  82.],\n",
       "       [151., 150., 147., ..., 193., 183., 184.],\n",
       "       [231., 212., 156., ...,  88., 110., 152.],\n",
       "       ...,\n",
       "       [ 17.,  17.,  16., ..., 154., 133., 113.],\n",
       "       [ 30.,  28.,  28., ...,  35.,  30.,  28.],\n",
       "       [ 19.,  13.,  14., ..., 189., 199., 201.]])"
      ]
     },
     "execution_count": 10,
     "metadata": {},
     "output_type": "execute_result"
    }
   ],
   "source": [
    "X"
   ]
  },
  {
   "cell_type": "code",
   "execution_count": 11,
   "metadata": {
    "colab": {
     "base_uri": "https://localhost:8080/",
     "height": 33
    },
    "colab_type": "code",
    "id": "0t1U_zehv3rc",
    "outputId": "c9aeccc9-8bfa-4430-ee96-187597ad5e7f"
   },
   "outputs": [
    {
     "data": {
      "text/plain": [
       "array([0, 0, 2, ..., 0, 3, 2], dtype=object)"
      ]
     },
     "execution_count": 11,
     "metadata": {},
     "output_type": "execute_result"
    }
   ],
   "source": [
    "y"
   ]
  },
  {
   "cell_type": "code",
   "execution_count": 12,
   "metadata": {
    "colab": {},
    "colab_type": "code",
    "id": "Rhh5p5-qv3rh"
   },
   "outputs": [],
   "source": [
    "X=X/255"
   ]
  },
  {
   "cell_type": "code",
   "execution_count": 13,
   "metadata": {
    "colab": {
     "base_uri": "https://localhost:8080/",
     "height": 234
    },
    "colab_type": "code",
    "id": "AEHbTgIvv3rl",
    "outputId": "aedcd290-15fa-4c24-8ddb-8d7b7f338110"
   },
   "outputs": [
    {
     "data": {
      "text/plain": [
       "array([[0.2745098 , 0.31372549, 0.32156863, ..., 0.41568627, 0.42745098,\n",
       "        0.32156863],\n",
       "       [0.59215686, 0.58823529, 0.57647059, ..., 0.75686275, 0.71764706,\n",
       "        0.72156863],\n",
       "       [0.90588235, 0.83137255, 0.61176471, ..., 0.34509804, 0.43137255,\n",
       "        0.59607843],\n",
       "       ...,\n",
       "       [0.06666667, 0.06666667, 0.0627451 , ..., 0.60392157, 0.52156863,\n",
       "        0.44313725],\n",
       "       [0.11764706, 0.10980392, 0.10980392, ..., 0.1372549 , 0.11764706,\n",
       "        0.10980392],\n",
       "       [0.0745098 , 0.05098039, 0.05490196, ..., 0.74117647, 0.78039216,\n",
       "        0.78823529]])"
      ]
     },
     "execution_count": 13,
     "metadata": {},
     "output_type": "execute_result"
    }
   ],
   "source": [
    "X"
   ]
  },
  {
   "cell_type": "code",
   "execution_count": 14,
   "metadata": {
    "colab": {
     "base_uri": "https://localhost:8080/",
     "height": 50
    },
    "colab_type": "code",
    "id": "pQM3XmBpv3ro",
    "outputId": "612da703-dfa3-4c26-d44d-39c03c2fb380"
   },
   "outputs": [
    {
     "name": "stdout",
     "output_type": "stream",
     "text": [
      "(30000, 2304) (30000,)\n",
      "(2300, 2304) (2300,)\n"
     ]
    }
   ],
   "source": [
    "X_train = X[0:30000, :]\n",
    "Y_train = y[0:30000]\n",
    "print (X_train.shape, Y_train.shape)\n",
    "\n",
    "X_test = X[30000:32300,:]\n",
    "Y_test = y[30000:32300]\n",
    "print (X_test.shape, Y_test.shape)"
   ]
  },
  {
   "cell_type": "code",
   "execution_count": 15,
   "metadata": {
    "colab": {},
    "colab_type": "code",
    "id": "k1PywyvDv3rr"
   },
   "outputs": [],
   "source": [
    "X_train = X_train.reshape((X_train.shape[0], 48, 48,1 ))\n",
    "X_test  = X_test.reshape((X_test.shape[0], 48, 48,1))"
   ]
  },
  {
   "cell_type": "code",
   "execution_count": 16,
   "metadata": {
    "colab": {
     "base_uri": "https://localhost:8080/",
     "height": 50
    },
    "colab_type": "code",
    "id": "5_A73UWav3rv",
    "outputId": "e05a66d7-f179-4210-fcde-04254be7676a"
   },
   "outputs": [
    {
     "name": "stdout",
     "output_type": "stream",
     "text": [
      "(30000, 7)\n",
      "(2300, 7)\n"
     ]
    }
   ],
   "source": [
    "Y_train = to_categorical(Y_train)\n",
    "Y_test  = to_categorical(Y_test)\n",
    "print(Y_train.shape)\n",
    "print(Y_test.shape)"
   ]
  },
  {
   "cell_type": "code",
   "execution_count": 17,
   "metadata": {
    "colab": {
     "base_uri": "https://localhost:8080/",
     "height": 33
    },
    "colab_type": "code",
    "id": "Uaag51gtv3rz",
    "outputId": "9a1a6b8d-eebd-47ac-9b48-cbaf3b30d49f"
   },
   "outputs": [
    {
     "name": "stdout",
     "output_type": "stream",
     "text": [
      "WARNING:tensorflow:`epsilon` argument is deprecated and will be removed, use `min_delta` instead.\n"
     ]
    }
   ],
   "source": [
    "from tensorflow.keras.callbacks import ReduceLROnPlateau\n",
    "lr_reduce = ReduceLROnPlateau(monitor='val_acc', factor=0.1, epsilon=0.0001, patience=1, verbose=1)"
   ]
  },
  {
   "cell_type": "code",
   "execution_count": 18,
   "metadata": {
    "colab": {},
    "colab_type": "code",
    "id": "NftyoqC8v3r3"
   },
   "outputs": [],
   "source": [
    "from tensorflow.keras.preprocessing.image import ImageDataGenerator\n",
    "\n",
    "datagen = ImageDataGenerator(\n",
    "        featurewise_center=False,  \n",
    "        samplewise_center=False,  \n",
    "        featurewise_std_normalization=False,  \n",
    "        samplewise_std_normalization=False,  \n",
    "        zca_whitening=False,  \n",
    "        rotation_range=10,  \n",
    "        zoom_range = 0.0,  \n",
    "        width_shift_range=0.1,  \n",
    "        height_shift_range=0.1,  \n",
    "        horizontal_flip=False, \n",
    "        vertical_flip=False)  \n",
    "\n",
    "datagen.fit(X_train)"
   ]
  },
  {
   "cell_type": "code",
   "execution_count": 19,
   "metadata": {
    "colab": {
     "base_uri": "https://localhost:8080/",
     "height": 669
    },
    "colab_type": "code",
    "id": "bAuYefN5v3r-",
    "outputId": "d9c1b5b4-13dc-432e-9193-4bea0d18c62d"
   },
   "outputs": [
    {
     "name": "stdout",
     "output_type": "stream",
     "text": [
      "Model: \"sequential\"\n",
      "_________________________________________________________________\n",
      " Layer (type)                Output Shape              Param #   \n",
      "=================================================================\n",
      " conv2d (Conv2D)             (None, 46, 46, 64)        640       \n",
      "                                                                 \n",
      " conv2d_1 (Conv2D)           (None, 44, 44, 64)        36928     \n",
      "                                                                 \n",
      " max_pooling2d (MaxPooling2D  (None, 22, 22, 64)       0         \n",
      " )                                                               \n",
      "                                                                 \n",
      " dropout (Dropout)           (None, 22, 22, 64)        0         \n",
      "                                                                 \n",
      " conv2d_2 (Conv2D)           (None, 20, 20, 128)       73856     \n",
      "                                                                 \n",
      " max_pooling2d_1 (MaxPooling  (None, 10, 10, 128)      0         \n",
      " 2D)                                                             \n",
      "                                                                 \n",
      " conv2d_3 (Conv2D)           (None, 8, 8, 128)         147584    \n",
      "                                                                 \n",
      " max_pooling2d_2 (MaxPooling  (None, 4, 4, 128)        0         \n",
      " 2D)                                                             \n",
      "                                                                 \n",
      " dropout_1 (Dropout)         (None, 4, 4, 128)         0         \n",
      "                                                                 \n",
      " flatten (Flatten)           (None, 2048)              0         \n",
      "                                                                 \n",
      " dense (Dense)               (None, 512)               1049088   \n",
      "                                                                 \n",
      " dropout_2 (Dropout)         (None, 512)               0         \n",
      "                                                                 \n",
      " dense_1 (Dense)             (None, 256)               131328    \n",
      "                                                                 \n",
      " dropout_3 (Dropout)         (None, 256)               0         \n",
      "                                                                 \n",
      " dense_2 (Dense)             (None, 7)                 1799      \n",
      "                                                                 \n",
      "=================================================================\n",
      "Total params: 1,441,223\n",
      "Trainable params: 1,441,223\n",
      "Non-trainable params: 0\n",
      "_________________________________________________________________\n",
      "None\n"
     ]
    }
   ],
   "source": [
    "model = Sequential()\n",
    "\n",
    "model.add(Conv2D(64, kernel_size=(3, 3), activation='relu', input_shape=(48,48,1)))\n",
    "model.add(Conv2D(64, kernel_size=(3, 3), activation='relu'))\n",
    "model.add(MaxPooling2D(pool_size=(2, 2)))\n",
    "model.add(Dropout(0.2))\n",
    "\n",
    "model.add(Conv2D(128, kernel_size=(3, 3), activation='relu'))\n",
    "model.add(MaxPooling2D(pool_size=(2, 2)))\n",
    "model.add(Conv2D(128, kernel_size=(3, 3), activation='relu'))\n",
    "model.add(MaxPooling2D(pool_size=(2, 2)))\n",
    "model.add(Dropout(0.22))\n",
    "\n",
    "model.add(Flatten())\n",
    "model.add(Dense(512, activation='relu'))\n",
    "model.add(Dropout(0.5))\n",
    "model.add(Dense(256, activation='relu'))\n",
    "model.add(Dropout(0.5))\n",
    "model.add(Dense(7, activation='softmax'))\n",
    "\n",
    "model.compile(loss='categorical_crossentropy',\n",
    "              optimizer='adam' ,\n",
    "              metrics=['acc'])\n",
    "\n",
    "print(model.summary())"
   ]
  },
  {
   "cell_type": "code",
   "execution_count": 20,
   "metadata": {
    "colab": {},
    "colab_type": "code",
    "id": "hegKfm-4ph6b"
   },
   "outputs": [
    {
     "name": "stderr",
     "output_type": "stream",
     "text": [
      "WARNING:absl:`lr` is deprecated in Keras optimizer, please use `learning_rate` or use the legacy optimizer, e.g.,tf.keras.optimizers.legacy.Adam.\n"
     ]
    }
   ],
   "source": [
    "model.compile(loss='categorical_crossentropy',\n",
    "              optimizer=Adam(lr=0.001, beta_1=0.9, beta_2=0.999, epsilon=1e-7) ,\n",
    "              metrics=['acc'])"
   ]
  },
  {
   "cell_type": "code",
   "execution_count": 21,
   "metadata": {
    "colab": {},
    "colab_type": "code",
    "id": "6BUQ8NDYv3sB"
   },
   "outputs": [],
   "source": [
    "batch_size = 64\n",
    "epochs = 40\n",
    "\n",
    "# steps_per_epoch = len(X) // batch_size\n",
    "# validation_steps = len((X_test, Y_test)) // batch_size"
   ]
  },
  {
   "cell_type": "code",
   "execution_count": 23,
   "metadata": {
    "colab": {
     "base_uri": "https://localhost:8080/",
     "height": 1000
    },
    "colab_type": "code",
    "id": "t-P3VmJtv3sE",
    "outputId": "75cd74ac-95e6-4661-eec2-288ff94f5e68"
   },
   "outputs": [
    {
     "name": "stdout",
     "output_type": "stream",
     "text": [
      "Epoch 1/40\n",
      "469/469 - 185s - loss: 1.8177 - acc: 0.2498 - val_loss: 1.8025 - val_acc: 0.2561 - 185s/epoch - 394ms/step\n",
      "Epoch 2/40\n",
      "469/469 - 182s - loss: 1.7519 - acc: 0.2809 - val_loss: 1.6213 - val_acc: 0.3552 - 182s/epoch - 388ms/step\n",
      "Epoch 3/40\n",
      "469/469 - 181s - loss: 1.5785 - acc: 0.3776 - val_loss: 1.4369 - val_acc: 0.4609 - 181s/epoch - 385ms/step\n",
      "Epoch 4/40\n",
      "469/469 - 177s - loss: 1.4558 - acc: 0.4332 - val_loss: 1.3288 - val_acc: 0.4839 - 177s/epoch - 377ms/step\n",
      "Epoch 5/40\n",
      "469/469 - 178s - loss: 1.3788 - acc: 0.4661 - val_loss: 1.2627 - val_acc: 0.5017 - 178s/epoch - 381ms/step\n",
      "Epoch 6/40\n",
      "469/469 - 176s - loss: 1.3127 - acc: 0.4990 - val_loss: 1.2315 - val_acc: 0.5243 - 176s/epoch - 376ms/step\n",
      "Epoch 7/40\n",
      "469/469 - 199s - loss: 1.2697 - acc: 0.5132 - val_loss: 1.1970 - val_acc: 0.5374 - 199s/epoch - 423ms/step\n",
      "Epoch 8/40\n",
      "469/469 - 192s - loss: 1.2342 - acc: 0.5315 - val_loss: 1.1641 - val_acc: 0.5530 - 192s/epoch - 410ms/step\n",
      "Epoch 9/40\n",
      "469/469 - 184s - loss: 1.2091 - acc: 0.5414 - val_loss: 1.1705 - val_acc: 0.5443 - 184s/epoch - 393ms/step\n",
      "Epoch 10/40\n",
      "469/469 - 180s - loss: 1.1787 - acc: 0.5531 - val_loss: 1.1383 - val_acc: 0.5687 - 180s/epoch - 385ms/step\n",
      "Epoch 11/40\n",
      "469/469 - 180s - loss: 1.1482 - acc: 0.5664 - val_loss: 1.1364 - val_acc: 0.5670 - 180s/epoch - 384ms/step\n",
      "Epoch 12/40\n",
      "469/469 - 222s - loss: 1.1345 - acc: 0.5703 - val_loss: 1.1288 - val_acc: 0.5722 - 222s/epoch - 472ms/step\n",
      "Epoch 13/40\n",
      "469/469 - 193s - loss: 1.1152 - acc: 0.5756 - val_loss: 1.1177 - val_acc: 0.5730 - 193s/epoch - 411ms/step\n",
      "Epoch 14/40\n",
      "469/469 - 181s - loss: 1.0986 - acc: 0.5861 - val_loss: 1.1062 - val_acc: 0.5861 - 181s/epoch - 387ms/step\n",
      "Epoch 15/40\n",
      "469/469 - 182s - loss: 1.0774 - acc: 0.5923 - val_loss: 1.1025 - val_acc: 0.5891 - 182s/epoch - 388ms/step\n",
      "Epoch 16/40\n",
      "469/469 - 185s - loss: 1.0614 - acc: 0.6004 - val_loss: 1.1061 - val_acc: 0.5878 - 185s/epoch - 395ms/step\n",
      "Epoch 17/40\n",
      "469/469 - 182s - loss: 1.0449 - acc: 0.6062 - val_loss: 1.1009 - val_acc: 0.5830 - 182s/epoch - 387ms/step\n",
      "Epoch 18/40\n",
      "469/469 - 177s - loss: 1.0285 - acc: 0.6124 - val_loss: 1.0919 - val_acc: 0.5800 - 177s/epoch - 377ms/step\n",
      "Epoch 19/40\n",
      "469/469 - 174s - loss: 1.0133 - acc: 0.6193 - val_loss: 1.0854 - val_acc: 0.5970 - 174s/epoch - 372ms/step\n",
      "Epoch 20/40\n",
      "469/469 - 175s - loss: 1.0027 - acc: 0.6237 - val_loss: 1.0880 - val_acc: 0.5878 - 175s/epoch - 373ms/step\n",
      "Epoch 21/40\n",
      "469/469 - 180s - loss: 0.9846 - acc: 0.6295 - val_loss: 1.1041 - val_acc: 0.5843 - 180s/epoch - 385ms/step\n",
      "Epoch 22/40\n",
      "469/469 - 180s - loss: 0.9723 - acc: 0.6345 - val_loss: 1.0806 - val_acc: 0.5996 - 180s/epoch - 384ms/step\n",
      "Epoch 23/40\n",
      "469/469 - 179s - loss: 0.9538 - acc: 0.6400 - val_loss: 1.0953 - val_acc: 0.5822 - 179s/epoch - 382ms/step\n",
      "Epoch 24/40\n",
      "469/469 - 180s - loss: 0.9422 - acc: 0.6468 - val_loss: 1.0825 - val_acc: 0.5943 - 180s/epoch - 385ms/step\n",
      "Epoch 25/40\n",
      "469/469 - 184s - loss: 0.9343 - acc: 0.6451 - val_loss: 1.0904 - val_acc: 0.5948 - 184s/epoch - 392ms/step\n",
      "Epoch 26/40\n",
      "469/469 - 178s - loss: 0.9211 - acc: 0.6543 - val_loss: 1.0715 - val_acc: 0.5904 - 178s/epoch - 379ms/step\n",
      "Epoch 27/40\n",
      "469/469 - 193s - loss: 0.9100 - acc: 0.6601 - val_loss: 1.0638 - val_acc: 0.6070 - 193s/epoch - 412ms/step\n",
      "Epoch 28/40\n",
      "469/469 - 179s - loss: 0.8963 - acc: 0.6660 - val_loss: 1.0846 - val_acc: 0.5930 - 179s/epoch - 381ms/step\n",
      "Epoch 29/40\n",
      "469/469 - 178s - loss: 0.8931 - acc: 0.6659 - val_loss: 1.0817 - val_acc: 0.5952 - 178s/epoch - 380ms/step\n",
      "Epoch 30/40\n",
      "469/469 - 179s - loss: 0.8802 - acc: 0.6699 - val_loss: 1.0587 - val_acc: 0.6048 - 179s/epoch - 382ms/step\n",
      "Epoch 31/40\n",
      "469/469 - 180s - loss: 0.8665 - acc: 0.6779 - val_loss: 1.0943 - val_acc: 0.5957 - 180s/epoch - 385ms/step\n",
      "Epoch 32/40\n",
      "469/469 - 184s - loss: 0.8617 - acc: 0.6805 - val_loss: 1.0811 - val_acc: 0.6013 - 184s/epoch - 393ms/step\n",
      "Epoch 33/40\n",
      "469/469 - 170s - loss: 0.8464 - acc: 0.6828 - val_loss: 1.0885 - val_acc: 0.5996 - 170s/epoch - 363ms/step\n",
      "Epoch 34/40\n",
      "469/469 - 154s - loss: 0.8422 - acc: 0.6875 - val_loss: 1.0720 - val_acc: 0.6122 - 154s/epoch - 329ms/step\n",
      "Epoch 35/40\n",
      "469/469 - 170s - loss: 0.8258 - acc: 0.6958 - val_loss: 1.1033 - val_acc: 0.5983 - 170s/epoch - 363ms/step\n",
      "Epoch 36/40\n",
      "469/469 - 166s - loss: 0.8277 - acc: 0.6926 - val_loss: 1.0904 - val_acc: 0.5991 - 166s/epoch - 354ms/step\n",
      "Epoch 37/40\n",
      "469/469 - 159s - loss: 0.8094 - acc: 0.6969 - val_loss: 1.0880 - val_acc: 0.6048 - 159s/epoch - 338ms/step\n",
      "Epoch 38/40\n",
      "469/469 - 176s - loss: 0.7939 - acc: 0.7046 - val_loss: 1.1082 - val_acc: 0.6004 - 176s/epoch - 376ms/step\n",
      "Epoch 39/40\n",
      "469/469 - 166s - loss: 0.7904 - acc: 0.7093 - val_loss: 1.1223 - val_acc: 0.5974 - 166s/epoch - 354ms/step\n",
      "Epoch 40/40\n",
      "469/469 - 181s - loss: 0.7859 - acc: 0.7074 - val_loss: 1.1064 - val_acc: 0.5939 - 181s/epoch - 385ms/step\n"
     ]
    }
   ],
   "source": [
    "history = model.fit(X_train, Y_train, \n",
    "                    batch_size=batch_size,\n",
    "                    validation_data=(X_test, Y_test),\n",
    "                    epochs = epochs,\n",
    "                    shuffle=True, \n",
    "                    verbose = 2)"
   ]
  },
  {
   "cell_type": "code",
   "execution_count": 24,
   "metadata": {
    "colab": {
     "base_uri": "https://localhost:8080/",
     "height": 573
    },
    "colab_type": "code",
    "id": "-547PxlEv3sH",
    "outputId": "e8951ddd-ef7a-4888-d957-ad2a28542636"
   },
   "outputs": [
    {
     "data": {
      "image/png": "[encoded data removed]",
      "text/plain": [
       "<Figure size 640x480 with 1 Axes>"
      ]
     },
     "metadata": {},
     "output_type": "display_data"
    },
    {
     "data": {
      "image/png": "[encoded data removed]",
      "text/plain": [
       "<Figure size 640x480 with 1 Axes>"
      ]
     },
     "metadata": {},
     "output_type": "display_data"
    }
   ],
   "source": [
    "plt.plot(history.history['acc'])\n",
    "plt.plot(history.history['val_acc'])\n",
    "plt.title('model accuracy')\n",
    "plt.ylabel('accuracy')\n",
    "plt.xlabel('epoch')\n",
    "plt.legend(['train', 'test'], loc='upper left')\n",
    "plt.show()\n",
    "# summarize history for loss\n",
    "plt.plot(history.history['loss'])\n",
    "plt.plot(history.history['val_loss'])\n",
    "plt.title('model loss')\n",
    "plt.ylabel('loss')\n",
    "plt.xlabel('epoch')\n",
    "plt.legend(['train', 'test'], loc='upper left')\n",
    "plt.show()"
   ]
  },
  {
   "cell_type": "code",
   "execution_count": null,
   "metadata": {
    "colab": {},
    "colab_type": "code",
    "id": "wZA_sAqG0OT8"
   },
   "outputs": [],
   "source": [
    "model.save('emotion_detection_model.h5')"
   ]
  },
  {
   "cell_type": "code",
   "execution_count": null,
   "metadata": {
    "colab": {},
    "colab_type": "code",
    "id": "OW7e83XHyOmD"
   },
   "outputs": [],
   "source": []
  }
 ],
 "metadata": {
  "accelerator": "GPU",
  "colab": {
   "collapsed_sections": [],
   "name": "Emotion_Recognition_Train.ipynb",
   "provenance": []
  },
  "kernelspec": {
   "display_name": "Python 3",
   "language": "python",
   "name": "python3"
  },
  "language_info": {
   "codemirror_mode": {
    "name": "ipython",
    "version": 3
   },
   "file_extension": ".py",
   "mimetype": "text/x-python",
   "name": "python",
   "nbconvert_exporter": "python",
   "pygments_lexer": "ipython3",
   "version": "3.11.4"
  }
 },
 "nbformat": 4,
 "nbformat_minor": 1
}
